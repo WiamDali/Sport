{
 "cells": [
  {
   "cell_type": "markdown",
   "id": "3a251d2b",
   "metadata": {},
   "source": [
    "# <center> Basketball\n",
    "    \n",
    "### Prédiction du pourcentage de réussite des tirs\n",
    "Dans ce cas d'utilisation, nous allons créer un modèle simple qui prédit le pourcentage de réussite des tirs d'un joueur de basket-ball en fonction de ses statistiques de tir précédentes."
   ]
  },
  {
   "cell_type": "code",
   "execution_count": null,
   "id": "c1cb8e5a",
   "metadata": {},
   "outputs": [],
   "source": [
    "import numpy as np\n",
    "from sklearn.linear_model import LinearRegression\n",
    "\n",
    "# Données d'entraînement (statistiques de tir précédentes)\n",
    "# Exemple : [distance du tir, angle du tir, nombre de tirs réussis]\n",
    "X_train = np.array([[10, 45, 7], [15, 35, 6], [18, 40, 8], [12, 38, 5]])\n",
    "# Pourcentage de réussite réel correspondant\n",
    "y_train = np.array([0.75, 0.6, 0.8, 0.55])\n",
    "\n",
    "# Initialiser et entraîner le modèle de régression linéaire\n",
    "model = LinearRegression()\n",
    "model.fit(X_train, y_train)\n",
    "\n",
    "# Données de test pour la prédiction (statistiques de tir actuelles)\n",
    "X_test = np.array([[14, 42, 0]])\n",
    "# Prédire le pourcentage de réussite des tirs\n",
    "predicted_shooting_percentage = model.predict(X_test)\n",
    "\n",
    "print(\"Pourcentage de réussite des tirs prédit :\", predicted_shooting_percentage)\n"
   ]
  },
  {
   "cell_type": "markdown",
   "id": "1041c4db",
   "metadata": {},
   "source": [
    "### Reconnaissance des mouvements et des gestes\n",
    "Dans ce cas d'utilisation, nous allons utiliser un modèle pré-entraîné pour reconnaître les mouvements et les gestes des joueurs de basket-ball, tels que les dribbles, les passes ou les tirs."
   ]
  },
  {
   "cell_type": "code",
   "execution_count": null,
   "id": "8ddbb611",
   "metadata": {},
   "outputs": [],
   "source": [
    "import numpy as np\n",
    "import tensorflow as tf\n",
    "from tensorflow import keras\n",
    "\n",
    "# Charger le modèle pré-entraîné (ex. modèle de reconnaissance de gestes)\n",
    "model = keras.models.load_model('modele_reconnaissance_gestes.h5')\n",
    "\n",
    "# Données de test pour la prédiction (séquence d'images ou de données)\n",
    "X_test = np.array(...)  # Remplacez par les données de test appropriées\n",
    "\n",
    "# Prédire les gestes\n",
    "predicted_gestures = model.predict(X_test)\n",
    "\n",
    "print(\"Gestes prédits :\", predicted_gestures)\n"
   ]
  },
  {
   "cell_type": "markdown",
   "id": "4702420b",
   "metadata": {},
   "source": [
    "### Prédiction des résultats de match\n",
    "Dans ce cas d'utilisation, nous allons créer un modèle qui prédit les résultats de matchs de basket-ball en utilisant des données historiques, telles que les performances des équipes, les statistiques des joueurs et les facteurs contextuels."
   ]
  },
  {
   "cell_type": "code",
   "execution_count": null,
   "id": "204aa3c8",
   "metadata": {},
   "outputs": [],
   "source": [
    "import numpy as np\n",
    "from sklearn.ensemble import RandomForestClassifier\n",
    "\n",
    "# Données d'entraînement (ex. performances des équipes, statistiques des joueurs, etc.)\n",
    "X_train = np.array([[100, 85, 45, 8], [95, 80, 40, 5], [110, 90, 50, 12], [105, 88, 47, 10]])\n",
    "# Résultats réels correspondants (0 = défaite, 1 = victoire)\n",
    "y_train = np.array([1, 0, 1, 1])\n",
    "\n",
    "# Initialiser et entraîner le modèle de classification (ex. forêt aléatoire)\n",
    "model = RandomForestClassifier()\n",
    "model.fit(X_train, y_train)\n",
    "\n",
    "# Données de test pour la prédiction (ex. performances des équipes du prochain match)\n",
    "X_test = np.array([[102, 87, 46, 9]])\n",
    "# Prédire le résultat du match (0 = défaite, 1 = victoire)\n",
    "predicted_result = model.predict(X_test)\n",
    "\n",
    "print(\"Résultat du match prédit :\", predicted_result)\n"
   ]
  },
  {
   "cell_type": "markdown",
   "id": "ee80c729",
   "metadata": {},
   "source": [
    "Ces exemples de toy models en Python illustrent différents cas d'utilisation de l'IA dans le basket-ball. Ils sont simplifiés et peuvent être adaptés en fonction de la complexité des problèmes réels que vous souhaitez aborder. N'hésitez pas à explorer davantage ces cas d'utilisation et à les enrichir avec des données plus réalistes et des modèles plus sophistiqués."
   ]
  }
 ],
 "metadata": {
  "kernelspec": {
   "display_name": "Python 3 (ipykernel)",
   "language": "python",
   "name": "python3"
  },
  "language_info": {
   "codemirror_mode": {
    "name": "ipython",
    "version": 3
   },
   "file_extension": ".py",
   "mimetype": "text/x-python",
   "name": "python",
   "nbconvert_exporter": "python",
   "pygments_lexer": "ipython3",
   "version": "3.8.8"
  }
 },
 "nbformat": 4,
 "nbformat_minor": 5
}
